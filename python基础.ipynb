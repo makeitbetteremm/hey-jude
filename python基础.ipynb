{
 "cells": [
  {
   "cell_type": "code",
   "execution_count": 13,
   "metadata": {},
   "outputs": [
    {
     "name": "stdout",
     "output_type": "stream",
     "text": [
      "1\n",
      "1\n",
      "2\n",
      "3\n",
      "5\n"
     ]
    }
   ],
   "source": [
    "class fib(object):\n",
    "    def __init__(self,max):\n",
    "        self.max=max\n",
    "        self.n,self.a,self.b=0,0,1\n",
    "    def __iter__(self):\n",
    "        return self\n",
    "    def __next__(self):#有iter必需有next来决定如何迭代\n",
    "        if self.n<self.max:\n",
    "            r=self.b\n",
    "            self.a,self.b=self.b,self.a+self.b\n",
    "            self.n+=1\n",
    "            return r\n",
    "        raise StopIteration()#StopIteration指某些错误情况，本行表示遇到错误情况停止\n",
    "for i in fib(5):\n",
    "    print(i)\n"
   ]
  },
  {
   "cell_type": "code",
   "execution_count": 1,
   "metadata": {},
   "outputs": [
    {
     "name": "stdout",
     "output_type": "stream",
     "text": [
      "1\n",
      "1\n",
      "2\n",
      "3\n",
      "5\n"
     ]
    }
   ],
   "source": [
    "def fib(ob):\n",
    "    a,b=0,1\n",
    "    while ob:\n",
    "        r=b\n",
    "        a,b=b,a+b\n",
    "        yield r#保留当前状态并立即返回结果给调用者,用于迭代\n",
    "        ob-=1\n",
    "fib(5)\n",
    "for i in fib(5):\n",
    "    print(i)"
   ]
  },
  {
   "cell_type": "code",
   "execution_count": 5,
   "metadata": {},
   "outputs": [
    {
     "name": "stdout",
     "output_type": "stream",
     "text": [
      "y\n",
      "x\n",
      "z\n",
      "finish\n"
     ]
    }
   ],
   "source": [
    "dict={'x':0,'y':1,'z':2}\n",
    "for i in dict:#i会迭代字典的的key而非key值\n",
    "    if dict[i]>1:\n",
    "        print('z')\n",
    "    elif dict[i]<1:\n",
    "        print('x')\n",
    "    else:\n",
    "        print('y')\n",
    "print('finish')"
   ]
  },
  {
   "cell_type": "code",
   "execution_count": 23,
   "metadata": {},
   "outputs": [
    {
     "name": "stdout",
     "output_type": "stream",
     "text": [
      "price 1 color red brand ig is_second_hand True\n"
     ]
    }
   ],
   "source": [
    "def sale_club(price,color='red',brand='rng',is_second_hand=True):\n",
    "    print('price', price,\n",
    "         'color',color,\n",
    "         'brand',brand,\n",
    "         'is_second_hand',is_second_hand)\n",
    "sale_club(1,brand='ig')\n"
   ]
  },
  {
   "cell_type": "code",
   "execution_count": 1,
   "metadata": {},
   "outputs": [
    {
     "name": "stdout",
     "output_type": "stream",
     "text": [
      "张三 total grade is 5\n",
      "sex male\n"
     ]
    }
   ],
   "source": [
    "def report(name,*grades,**kw):\n",
    "    total_grade=0\n",
    "    for grade in grades:\n",
    "        total_grade+=grade\n",
    "    print(name,'total grade is',total_grade)\n",
    "    for k,v in kw.items():\n",
    "        print(k,v)\n",
    "\n",
    "report('张三',1,2,2,sex='male')"
   ]
  },
  {
   "cell_type": "code",
   "execution_count": 30,
   "metadata": {},
   "outputs": [
    {
     "name": "stdout",
     "output_type": "stream",
     "text": [
      "\ta past \n",
      "\tNone\n",
      "\t100\n",
      "\ta now \n",
      "\t20\n"
     ]
    }
   ],
   "source": [
    "Apple=100\n",
    "a=None\n",
    "def fun():\n",
    "    global a#引用外部变量\n",
    "    a=20\n",
    "    return a+100\n",
    "print('\\ta past','\\n\\t%s'%a)#\\n换行，\\t对其，%s占位\n",
    "print('\\t%s'%Apple)\n",
    "fun()\n",
    "print('\\ta now','\\n\\t%s'%a)"
   ]
  },
  {
   "cell_type": "code",
   "execution_count": 32,
   "metadata": {},
   "outputs": [
    {
     "name": "stdout",
     "output_type": "stream",
     "text": [
      "this is my first text. \n",
      "this is the second line. \n",
      "this is the third\n"
     ]
    }
   ],
   "source": [
    "text='this is my first text. \\nthis is the second line. \\nthis is the third'\n",
    "print(text)\n",
    "myfile=open('泊松回归模型.txt','w')\n",
    "myfile.write(text)\n",
    "myfile.close()"
   ]
  },
  {
   "cell_type": "code",
   "execution_count": 1,
   "metadata": {
    "collapsed": true
   },
   "outputs": [],
   "source": [
    "append_text='this is an append line'#'w'会覆盖源文件，'a'为添加\n",
    "f=open('myfile.txt','a')\n",
    "f.write(append_text)\n",
    "f.close()"
   ]
  },
  {
   "cell_type": "code",
   "execution_count": 6,
   "metadata": {},
   "outputs": [
    {
     "data": {
      "text/plain": [
       "'this is the second line. \\n'"
      ]
     },
     "execution_count": 6,
     "metadata": {},
     "output_type": "execute_result"
    }
   ],
   "source": [
    "\n",
    "f=open('myfile.txt','r')#readline会默认读取下一行下一行，如前边为read在readline为空\n",
    "c1=f.readline()\n",
    "c2=f.readline()\n",
    "f.close()#关闭文档解除占用\n",
    "c2"
   ]
  },
  {
   "cell_type": "code",
   "execution_count": 7,
   "metadata": {},
   "outputs": [
    {
     "name": "stdout",
     "output_type": "stream",
     "text": [
      "this is my first text. \n",
      "\n",
      "this is the second line. \n",
      "\n",
      "this is the third\n",
      "\n",
      "this is an append line\n"
     ]
    }
   ],
   "source": [
    "f=open('myfile.txt','r')#按行全部读取\n",
    "c=f.readlines()\n",
    "f.close\n",
    "for i in c:\n",
    "    print(i)"
   ]
  },
  {
   "cell_type": "code",
   "execution_count": 10,
   "metadata": {},
   "outputs": [
    {
     "name": "stdout",
     "output_type": "stream",
     "text": [
      "Hello Calculator\n",
      "19\n",
      "3\n"
     ]
    }
   ],
   "source": [
    "class Calculator:\n",
    "    name='Good Calculator'\n",
    "    price=18\n",
    "    def __init__(self,name=name,price=price,length=0,width=0,height=0):#给出了默认值，不给出默认值引用时需要全部赋值\n",
    "        self.name=name\n",
    "        self.price=price\n",
    "        self.length=length\n",
    "        self.width=width\n",
    "        self.height=height\n",
    "    def add(self,x,y):\n",
    "        print(self.name)\n",
    "        print(self.price)\n",
    "        print(x+y)\n",
    "    def minus(self,x,y):\n",
    "        print(x-y)\n",
    "    def times(self,x,y):\n",
    "        print(x*y)\n",
    "    def divide(self,x,y):\n",
    "        print(x/y)\n",
    "cal=Calculator(name='Hello Calculator',length=1)\n",
    "\n",
    "cal.add(1,2)"
   ]
  },
  {
   "cell_type": "code",
   "execution_count": 20,
   "metadata": {},
   "outputs": [
    {
     "name": "stdout",
     "output_type": "stream",
     "text": [
      "please input your score:\n",
      "77\n",
      "C\n"
     ]
    }
   ],
   "source": [
    "score=int(input('please input your score:\\n'))#input 输入默认为str\n",
    "if score>=90:\n",
    "    print('A')\n",
    "elif score>=80:\n",
    "    print('B')\n",
    "elif score>=70:\n",
    "    print('C')\n",
    "elif score>=60:\n",
    "    print('D')\n",
    "else:\n",
    "    print('you are failed')\n"
   ]
  },
  {
   "cell_type": "code",
   "execution_count": 27,
   "metadata": {},
   "outputs": [
    {
     "name": "stdout",
     "output_type": "stream",
     "text": [
      "1\n",
      "2\n",
      "3\n",
      "1\n",
      "2\n",
      "3\n",
      "index= 0 number in a tuple= 1\n",
      "index= 1 number in a tuple= 2\n",
      "index= 2 number in a tuple= 3\n",
      "index= 0 number in a list= 1\n",
      "index= 1 number in a list= 2\n",
      "index= 2 number in a list= 3\n"
     ]
    }
   ],
   "source": [
    "a_tuple=(1,2,3)\n",
    "tuple=1,2,3\n",
    "a_list=[1,2,3]\n",
    "for i in a_tuple:\n",
    "    print(i)\n",
    "for i in a_list:\n",
    "    print(i)\n",
    "for index in range(len(tuple)):\n",
    "    print('index=',index,'number in a tuple=',tuple[index])#tuple和list索引都用[]\n",
    "for index in range(len(a_list)):\n",
    "    print('index=',index,'number in a list=',a_list[index])"
   ]
  },
  {
   "cell_type": "code",
   "execution_count": 15,
   "metadata": {},
   "outputs": [
    {
     "name": "stdout",
     "output_type": "stream",
     "text": [
      "b [13, 9, 7, 5, 4, 2, 1, 1] c [13, 9, 7, 5, 4, 2, 1, 1] index 4 count 2 d [13, 9, 7, 5, 4, 2, 1, 1] e [13, 9, 7, 5, 4, 2, 1, 1]\n",
      "multi_dim 5 + [13, 9, 7, 5, 4, 2, 1, 1, 2, 2]\n"
     ]
    }
   ],
   "source": [
    "#list的增删、排序、索引、计数、+\n",
    "a=[1,3,5,13,9,7,2,1]\n",
    "a.append(4)\n",
    "b=a\n",
    "a.remove(3)\n",
    "c=a\n",
    "a.sort()\n",
    "d=a\n",
    "a.sort(reverse=True)\n",
    "e=a\n",
    "print('b',b,'c',c,\n",
    "'index',a.index(4),\n",
    "'count',a.count(1),'d',d,'e',e\n",
    ")\n",
    "multi_dim_a=[[1,3,5],[13,9,7],[7,2,1]]\n",
    "print('multi_dim',multi_dim_a[0][2],'+',\n",
    "      a+[2,2])\n"
   ]
  },
  {
   "cell_type": "code",
   "execution_count": 20,
   "metadata": {},
   "outputs": [
    {
     "data": {
      "text/plain": [
       "'a'"
      ]
     },
     "execution_count": 20,
     "metadata": {},
     "output_type": "execute_result"
    }
   ],
   "source": [
    "#字典的key对应的值可以为int、str、列表、函数等\n",
    "d1={1:'a','b':2,'c':'c'}\n",
    "del d1[1]\n",
    "d1['2']='n'\n",
    "d1['list1']=[1,2,3,'a']\n",
    "def func(a):\n",
    "    return a**2\n",
    "d1['pf']=func(2)\n",
    "d1['list1'][3]#对字典中的列表进行引用"
   ]
  },
  {
   "cell_type": "code",
   "execution_count": null,
   "metadata": {},
   "outputs": [
    {
     "name": "stdout",
     "output_type": "stream",
     "text": [
      "please input something2\n",
      "still in a while\n",
      "please input something3\n",
      "still in a while\n",
      "please input something1\n",
      "please input something1\n",
      "please input something1\n",
      "please input something1\n"
     ]
    }
   ],
   "source": [
    "#True、False判断后跳出循环、break直接跳出循环、continue直接进行下一个循环\n",
    "a=True\n",
    "while a:\n",
    "    b=input('please input something')\n",
    "    if b=='1':\n",
    "        break#  a=False  continue\n",
    "    else:\n",
    "        pass\n",
    "    print('still in a while')\n",
    "print('finish run')"
   ]
  },
  {
   "cell_type": "code",
   "execution_count": 8,
   "metadata": {},
   "outputs": [
    {
     "name": "stdout",
     "output_type": "stream",
     "text": [
      "please input a name of txtaaaaaa.txt\n",
      "[Errno 2] No such file or directory: 'aaaaaa.txt'\n",
      "do you want to creat a new file y/ny\n",
      "please write a linehello hhhh\n"
     ]
    }
   ],
   "source": [
    "#try和except可用于捕获异常\n",
    "try:\n",
    "    b=(input('please input a name of txt'))\n",
    "    f=open(b,'r')\n",
    "    f.read()\n",
    "    f.close()\n",
    "except Exception as e:#将错误类型语句存储于e\n",
    "    print(e)\n",
    "    a=input('do you want to creat a new file y/n')\n",
    "    if a=='y':\n",
    "        f=open(b,'w')\n",
    "        f.write(input('please write a line'))\n",
    "        f.close()\n",
    "    else:\n",
    "        pass\n",
    "else:\n",
    "    pass\n"
   ]
  },
  {
   "cell_type": "code",
   "execution_count": 3,
   "metadata": {},
   "outputs": [
    {
     "name": "stdout",
     "output_type": "stream",
     "text": [
      "1 4\n",
      "2 5\n",
      "3 6\n"
     ]
    }
   ],
   "source": [
    "a=[1,2,3,10,11,13]\n",
    "b=[4,5,6]\n",
    "ab=zip(a,b)#zip将a,b的参数分别合并，转化为tuple进行存储\n",
    "type(ab)#输出为zip型\n",
    "#只会返回可合并项,两函数返回结果一样\n",
    "def func1(x):\n",
    "    for i,j in list(x):\n",
    "        print(i,j)\n",
    "def func2(x):\n",
    "    for i,j in x:\n",
    "        print(i,j)\n",
    "\n"
   ]
  },
  {
   "cell_type": "code",
   "execution_count": 7,
   "metadata": {},
   "outputs": [
    {
     "name": "stdout",
     "output_type": "stream",
     "text": [
      "3\n"
     ]
    },
    {
     "data": {
      "text/plain": [
       "[5, 7, 9]"
      ]
     },
     "execution_count": 7,
     "metadata": {},
     "output_type": "execute_result"
    }
   ],
   "source": [
    "#lambda可以简化函数定义\n",
    "func=lambda x,y:x+y\n",
    "print(func(1,2))\n",
    "#map将函数和参数绑在一起输入\n",
    "list(map(func,[1,2,3],[4,5,6]))#需要用list将map结果打印出来"
   ]
  },
  {
   "cell_type": "code",
   "execution_count": 42,
   "metadata": {},
   "outputs": [
    {
     "name": "stdout",
     "output_type": "stream",
     "text": [
      "2416244654664\n",
      "2416244655624\n",
      "[1, 2, [1, 2, 3]] [2, 2, [1, 2, 3]]\n",
      "改变新建地址元素后 [1, 2, [1, 3, 3]] [2, 2, [1, 3, 3]]\n",
      "(1, 2, 3)\n",
      "True\n",
      "'tuple' object does not support item assignment\n",
      "False\n",
      "deepcopy 改变后 [1, 2, [1, 2, 3]] [2, 2, [1, 3, 3]]\n",
      "赋值运算 {1: 2, 2: 'world'} {1: 2, 2: 'world'}\n"
     ]
    }
   ],
   "source": [
    "#浅拷贝与深拷贝以及列表、字典的复制\n",
    "#mutable list dict等\n",
    "#imutable （部分 number、str） 、tuple等\n",
    "import copy\n",
    "a=[1,2,[1,2,3]]\n",
    "print(id(a))#id为a在内存中的地址\n",
    "\n",
    "b=copy.copy(a)#浅拷贝只拷贝一个对象，内部元素只拷贝引用\n",
    "print(id(b))#拷贝后对象保存的地址不同\n",
    "b[0]=2\n",
    "print(a,b)#由于整数（整数在python中会分配一定的缓存地址）为immutable所以b将自己的引用改变，而a未变\n",
    "\n",
    "b[2][1]=3\n",
    "print('改变新建地址元素后',a,b)#这次改变没有改变引用，而是修改了地址内的元素，a，b都改变\n",
    "\n",
    "#如果a的对象和内部元素都为immutable，则copy和deepcopy都不存在copy\n",
    "#但是immutable的对象中若存在mutable则可以改变，原理同mutable对象\n",
    "a=(1,2,3)\n",
    "b=copy.copy(a)\n",
    "print(c)\n",
    "print(id(a)==id(b))#id相同\n",
    "#无法更改内部元素，所以不存在拷贝\n",
    "try:\n",
    "    b[2]=1\n",
    "except Exception as e:\n",
    "    print(e)\n",
    "\n",
    "#深拷贝不仅会拷贝对象，还会对内部元素进行拷贝，但是immutable元素依然会指向系统默认引用，只会对mutable新建存储地址\n",
    "a=[1,2,[1,2,3]]\n",
    "b=copy.deepcopy(a)\n",
    "print(id(a)==id(b))#false\n",
    "\n",
    "#改变immutable或者mutable另一个都不会改变\n",
    "b[0]=2\n",
    "b[2][1]=3\n",
    "print('deepcopy 改变后',a,b)\n",
    "\n",
    "#list、dict的赋值运算与copy不同,相当于对同一个对象贴不同的标签，改变盒子的东西a，b都变\n",
    "#以dict为例\n",
    "a={1:'a',2:'world'}\n",
    "b=a\n",
    "b[1]=2\n",
    "print('赋值运算',a,b)\n",
    "\n",
    "#四种集合（list\\tuple\\dict\\set）的其他复制操作copy() 函数、分片操作[:]、dict（）、list（）与浅拷贝相似\n",
    "#如list\\dict\\set.copy(),b=dict\\list\\set\\tuple(a),list\\tuple=a[:]"
   ]
  },
  {
   "cell_type": "code",
   "execution_count": 7,
   "metadata": {},
   "outputs": [
    {
     "name": "stdout",
     "output_type": "stream",
     "text": [
      "[1, 2, 3]\n"
     ]
    }
   ],
   "source": [
    "#python的压缩工具pickle\n",
    "import pickle\n",
    "a=[1,2,3]\n",
    "f=open('pickle_example.pickle','wb')#wb以二进制方式写入\n",
    "pickle.dump(a,f)#将a写入f\n",
    "f.close()\n",
    "with open('pickle_example.pickle','rb') as f:#with open（） as 系统会自动完成f.close（） \n",
    "    b=pickle.load(f)#利用pickle模块读取f\n",
    "print(b)"
   ]
  },
  {
   "cell_type": "code",
   "execution_count": 1,
   "metadata": {},
   "outputs": [
    {
     "name": "stdout",
     "output_type": "stream",
     "text": [
      "{'m', 1, 2, 3, 4, 'l', 'c', 't', 'n', ' ', 'K', 'e', 'g', 'i', 'P', 'w', 'o'}\n",
      "{'a', 1, 2, 3, 4}\n",
      "unhashable type: 'list'\n",
      "{'a', 1, 3, 4}\n",
      "{'a', 3, 4}\n",
      "{'a'}\n",
      "{3, 4}\n",
      "None\n"
     ]
    }
   ],
   "source": [
    "#set（）集合可自动去重\n",
    "a=[1,1,2,2,3,3,4,4]\n",
    "b='welcome to PeiKing'\n",
    "print(set(a+list(b)))\n",
    "a=set(a)\n",
    "a.add('a')\n",
    "print(a)\n",
    "try:\n",
    "    a.add([1,2])#无法添加list\n",
    "except Exception as e:\n",
    "    print(e)\n",
    "a.remove(2)\n",
    "print(a)\n",
    "a.discard(1)\n",
    "print(a)\n",
    "print(a.difference([1,2,3,4]))#difference寻找出a有但b没有那部分\n",
    "print(a.intersection([1,2,3,4]))#取交集\n",
    "print(a.clear())#清空set"
   ]
  },
  {
   "cell_type": "code",
   "execution_count": 13,
   "metadata": {},
   "outputs": [
    {
     "name": "stdout",
     "output_type": "stream",
     "text": [
      "<_sre.SRE_Match object; span=(12, 15), match='cat'>\n",
      "None\n",
      "0-9 a-z A-Z任意数字字母 <_sre.SRE_Match object; span=(4, 7), match='run'>\n",
      "\\d 任意十进制数字 <_sre.SRE_Match object; span=(4, 7), match='r9n'>\n",
      "\\D 非十进制数字 <_sre.SRE_Match object; span=(0, 3), match='run'>\n",
      "\\s 任意空白字符 <_sre.SRE_Match object; span=(4, 7), match='r\\nn'>\n",
      "\\S 匹配非空白字符 <_sre.SRE_Match object; span=(0, 3), match='run'>\n",
      "\\w包括下划线在内的任何字字符 <_sre.SRE_Match object; span=(0, 3), match='run'>\n",
      "\\W 任何非字字符 <_sre.SRE_Match object; span=(4, 7), match='r\\nn'>\n",
      " \\b 单词与符号之间的边界，如'a,'\\b就是'a'与','的边界 <_sre.SRE_Match object; span=(1, 4), match='run'>\n",
      "\\B 单词与单词，符号与符号之间的边界 <_sre.SRE_Match object; span=(4, 8), match='run,'>\n",
      "'\\ 匹配 ' <_sre.SRE_Match object; span=(5, 9), match='run\\\\'>\n",
      ". 匹配任何除了\\n <_sre.SRE_Match object; span=(0, 3), match='r\\tn'>\n",
      "^ 匹配行开头 <_sre.SRE_Match object; span=(17, 20), match='dog'>\n",
      "$ 匹配行结尾 <_sre.SRE_Match object; span=(12, 15), match='cat'>\n",
      "？ 0次或这1次 <_sre.SRE_Match object; span=(0, 6), match='monday'>\n",
      "？ 0次或这1次 <_sre.SRE_Match object; span=(0, 3), match='mon'>\n",
      "research 的参数flags=re.M可处理多行字符串结构 <_sre.SRE_Match object; span=(17, 20), match='dog'>\n",
      "<_sre.SRE_Match object; span=(1, 4), match='dog'>\n",
      "* 0次或多次 <_sre.SRE_Match object; span=(0, 1), match='a'>\n",
      "* 0次或多次 <_sre.SRE_Match object; span=(0, 4), match='abbb'>\n",
      "+ 1次或多次 None\n",
      "+ 1次或多次 <_sre.SRE_Match object; span=(0, 5), match='abbbb'>\n",
      "{n,m} n到m次 <_sre.SRE_Match object; span=(0, 4), match='abbb'>\n",
      "{n,} 至少n次 <_sre.SRE_Match object; span=(0, 4), match='abbb'>\n",
      "{n} n次 <_sre.SRE_Match object; span=(0, 3), match='abb'>\n",
      "\n",
      "() 对匹配的内容分组\n",
      "021523, Date: Feb/12/2017\n",
      "021523\n",
      " Feb/12/2017\n",
      "021523\n",
      "7\n",
      "['run', 'ran', 'run']\n",
      "['run', 'ran', 'run']\n",
      "['1', '2', '3', '4', '5']\n",
      "['run', 'ran', 'run']\n"
     ]
    }
   ],
   "source": [
    "#正则表达式简介\n",
    "import re\n",
    "p1='cat'\n",
    "p2='bird'\n",
    "string='dog runs to cat. cats ran to dogs'\n",
    "print(re.search(p1,string))\n",
    "print(re.search(p2,string))\n",
    "#[]匹配中括号内部包括匹配的内容\n",
    "#在正则前加r表示为正则表达式\n",
    "#0-9 a-z A-Z 匹配0-9内任意数字 a-z A-Z同\n",
    "p3='r[0-9a-zA-z]n'\n",
    "print('0-9 a-z A-Z任意数字字母',re.search(p3,string))\n",
    "#\\d： any decimal digit\n",
    "print('\\d 任意十进制数字',re.search(r'r\\dn','run r9n'))\n",
    "#\\D:  any non-decimal digit\n",
    "print('\\D 非十进制数字',re.search(r'r\\Dn','run r9n'))\n",
    "# \\s : any white space [\\t\\n\\r\\f\\v]\n",
    "print('\\s 任意空白字符',re.search(r'r\\sn','run r\\nn'))\n",
    "# \\S : any non-white space opposite to \\s\n",
    "print('\\S 匹配非空白字符',re.search(r'r\\Sn','run r\\nn'))\n",
    "#\\w:[0-9a-zA-Z]\n",
    "print('\\w包括下划线在内的任何字字符',re.search(r'r\\wn','run r\\nn'))\n",
    "#\\W:opposite to \\w\n",
    "print('\\W 任何非字字符',re.search(r'r\\Wn','run r\\nn'))\n",
    "#\\b: 单词与符号之间的边界，如'a,'\\b就是'a'与','的边界\n",
    "print(r\" \\b 单词与符号之间的边界，如'a,'\\b就是'a'与','的边界\",re.search(r'\\brun\\b',',run, '))\n",
    "#\\B: \n",
    "print('\\B 单词与单词，符号与符号之间的边界',re.search(r'\\Brun,\\B','dogsrun, to cat'))\n",
    "#\\\\:match \\\n",
    "print(\"'\\\\ 匹配 \\'\",re.search(r'run\\\\','dogs run\\ to cat'))\n",
    "# .:match anything(without /n)\n",
    "print(r'. 匹配任何除了\\n',re.search('r.n','r\\tn r\\nn'))\n",
    "# ^ :match beginning of line\n",
    "print(r'^ 匹配行开头',re.search(r'^dog','cats run to cat \\ndogs run to cat ',flags=re.M))\n",
    "# $ :match end of line\n",
    "print('$ 匹配行结尾',re.search('cat$','dogs run to cat'))#如果在cat后有空格则最后一位为符号结果为none\n",
    "# ? : may or may not occur\n",
    "print('？ 0次或这1次',re.search('mon(day)?','monday'))\n",
    "print('？ 0次或这1次',re.search('mon(day)?','mon'))\n",
    "#search 默认只处理一行，定义参数flags=re.M 或flags=re.MULTILINE可进行多行处理\n",
    "print('research 的参数flags=re.M可处理多行字符串结构',re.search(r'^dog','cats run to cat \\ndogs run to cat ',flags=re.M))\n",
    "string = '''\n",
    "dog runs to cat.\n",
    "I run to dog.\n",
    "'''\n",
    "print(re.search(r'^dog',string,flags=re.M))\n",
    "# * : occur 0 to more\n",
    "print('* 0次或多次',re.search('ab*','a'))\n",
    "print('* 0次或多次',re.search('ab*','abbb'))\n",
    "# + : occur 1 to more,\n",
    "print('+ 1次或多次',re.search('ab+','a'))\n",
    "print('+ 1次或多次',re.search('ab+','abbbb'))\n",
    "# {n,m} : occur n to m\n",
    "print('{n,m} n到m次',re.search('ab{2,10}','abbb'))\n",
    "print('{n,} 至少n次',re.search('ab{2,10}','abbb'))\n",
    "# {n} : occur n\n",
    "print('{n} n次',re.search('ab{2}','abb'))\n",
    "\n",
    "# () : 对匹配的内容分组\n",
    "print('\\n() 对匹配的内容分组')\n",
    "m=re.search('(\\d+), Date:(.+)','ID: 021523, Date: Feb/12/2017')#中间的 \"， Date: \"需与原句一致\n",
    "print(m.group())#返回所有匹配的字符，默认为m.group(0)\n",
    "print(m.group(1))#返回第一个括号匹配的字符\n",
    "print(m.group(2))#返回第而个括号匹配的字符\n",
    "# ?P<索引> : 为匹配到的组定义索引名\n",
    "print('\\n?P<index> 为匹配的组规则定义索引')\n",
    "m=re.search('(?P<Id>\\d+).+(?P<date>.+)','ID: 021523, Date: Feb/12/2017')\n",
    "print(m.group('Id'))\n",
    "print(m.group('date'))\n",
    "# findall() : search()只会返回第一个匹配 findall（）会返回所有匹配\n",
    "print('re.findall() 返回所有're.findall('r[ua]n','run ran running'))\n",
    "# | : 表示或\n",
    "print('A|B A或B 与一般的python判断不同，中间不能出现空格字符',re.findall('run|ran','run ran running'))#run与|间不能加空格\n",
    "# split（）与python自带类似\n",
    "print(re.split('[,:\\.;]','1,2.3;4:5'))#\\.用于区分功能 .\n",
    "#compile（）保存正则规则\n",
    "print('re.compile 保存正则匹配规则')\n",
    "compiled_r=re.compile(r'run|ran')\n",
    "print(compiled_r.findall('run ran running'))"
   ]
  },
  {
   "cell_type": "code",
   "execution_count": 1,
   "metadata": {
    "collapsed": true
   },
   "outputs": [],
   "source": [
    "#multiprocessing threading\n",
    "#多进程将进程放入多个cpu运行，多线程将进程分成若干小线程运行\n",
    "import multiprocessing as mp\n",
    "import threading as td\n",
    "def job(a,b):\n",
    "    print(a+b)\n",
    "if __name__=='__main__':#没有的话会报错\n",
    "    p1=mp.Process(target=job,args=(1,2))#参数放入args中,\n",
    "    t1=td.Thread(target=job,args=(3,4))\n",
    "#实现多进程，多线程实现同\n",
    "    p1.start()\n",
    "    p1.join()"
   ]
  },
  {
   "cell_type": "code",
   "execution_count": null,
   "metadata": {
    "collapsed": true
   },
   "outputs": [],
   "source": [
    "#由于多线程与多进程调用的函数不能有返回值，这时用queue将结果存入队列用便于调用\n",
    "import multiprocessing as mp\n",
    "def job(q):\n",
    "    res=0\n",
    "    for i in range(1000):\n",
    "        res+=1\n",
    "        q.put(res)#记录每一个res\n",
    "if __name__=='__main__':\n",
    "    q=mp.Queue()\n",
    "    p=mp.Process(target=job,args=(q,))#参数只有一个值时，要保留逗号，表明可迭代\n",
    "\n",
    "    p.start()\n",
    "    p.join()\n",
    "    res1=q.get()\n",
    "    res2=q.get()\n",
    "    print(res1,res2)#结果：1，2\n",
    "\n",
    "\n"
   ]
  },
  {
   "cell_type": "code",
   "execution_count": null,
   "metadata": {
    "collapsed": true
   },
   "outputs": [],
   "source": [
    "#比较不同运算方式的时间\n",
    "import multiprocessing as mp\n",
    "import threading as td\n",
    "import time\n",
    "#定义job函数\n",
    "def job(q):\n",
    "    res=0\n",
    "    for i in range(int(1e+008)):\n",
    "        res+=1\n",
    "    q.put(res)#只将最后一个结果记录到q中\n",
    "#定义多进程函数\n",
    "def multicore():\n",
    "    q=mp.Queue()\n",
    "    p1=mp.Process(target=job,args=(q,))\n",
    "    p2= mp.Process(target=job, args=(q,))\n",
    "    p1.start()\n",
    "    p2.start()\n",
    "    p1.join()\n",
    "    p2.join()\n",
    "    res1=q.get()\n",
    "    res2=q.get()\n",
    "    print('multicore',res1+res2)\n",
    "#定义多线程函数\n",
    "def multithread():\n",
    "    q=mp.Queue()\n",
    "    p1=td.Thread(target=job,args=(q,))\n",
    "    p2= td.Thread(target=job, args=(q,))\n",
    "    p1.start()\n",
    "    p2.start()\n",
    "    p1.join()\n",
    "    p2.join()\n",
    "    res1=q.get()\n",
    "    res2=q.get()\n",
    "    print('multithread',res1+res2)\n",
    "#定义一个正常运算的函数，与多进程多线程的函数一样运算两遍\n",
    "def normal():\n",
    "    res=0\n",
    "    for _ in range(2):\n",
    "        for i in range(int(1e+008)):\n",
    "            res+=1\n",
    "    print('normal',res)\n",
    "if __name__=='__main__':#只在内部引用，不用于外部\n",
    "    std1=time.time()\n",
    "    normal()\n",
    "    std2=time.time()\n",
    "    print('normal',std2-std1)\n",
    "    multicore()\n",
    "    std3=time.time()\n",
    "    print('multicore',std3-std2)\n",
    "    multithread()\n",
    "    print('multithread',time.time()-std3)\n",
    "#运行结果normal 200000000\n",
    "#normal 10.115883350372314\n",
    "#multicore 200000000\n",
    "#multicore 5.866272211074829\n",
    "#multithread 200000000\n",
    "#multithread 9.9115469455719\n",
    "#多进程最快为5.8秒"
   ]
  },
  {
   "cell_type": "code",
   "execution_count": null,
   "metadata": {
    "collapsed": true
   },
   "outputs": [],
   "source": [
    "#利用pool()实现多进程与Process不同，pool会返回中间值\n",
    "import multiprocessing as mp\n",
    "def job(x):\n",
    "    return x*x\n",
    "def multicore():\n",
    "    pool=mp.Pool()\n",
    "    res=pool.map(job,range(10))#map（）返回迭代值\n",
    "    print(res)\n",
    "    res=pool.apply_async(job,(2,))#pool 的 apply_async（）会返回单次值\n",
    "    print(res.get())#apply_async（）返回值需要get()\n",
    "#用apply_async()返回多个结果\n",
    "#res = pool.apply_async(job, (2,3,4,))会报错，不支持迭代\n",
    "# 代入迭代器\n",
    "def multicore1():\n",
    "    pool = mp.Pool()\n",
    "    multi_res=[pool.apply_async(job,(i,)) for i in range(10)]\n",
    "    print([res.get() for res in multi_res])\n",
    "if __name__=='__main__':\n",
    "    multicore()\n",
    "    multicore1()"
   ]
  },
  {
   "cell_type": "code",
   "execution_count": 1,
   "metadata": {
    "collapsed": true
   },
   "outputs": [],
   "source": [
    "#multiprocessing使内存数据共享的shared value 与 shared array\n",
    "#进程与进程之间是由边界的而共享内存可以打破这种边界\n",
    "import multiprocessing as mp\n",
    "#共享数据时需与定义数据类型，这些形式为c中对于类型的要求。python较少只有int float str等几类\n",
    "value=mp.Value('d',3.14)#有符号双精浮点类型\n",
    "value2=mp.Value('i',1)#有符号整型\n",
    "#array只能为一维数据\n",
    "array=mp.Array('i',[1,2,3,4])"
   ]
  },
  {
   "cell_type": "code",
   "execution_count": 22,
   "metadata": {},
   "outputs": [
    {
     "name": "stdout",
     "output_type": "stream",
     "text": [
      "0\n",
      "1\n",
      "2\n",
      "3\n",
      "4\n",
      "5\n",
      "6\n",
      "7\n",
      "8\n",
      "9\n"
     ]
    }
   ],
   "source": [
    "#共享内存会出现多个进程争夺共享变量的情况，进程锁可以保证进程对于变量的独占\n",
    "import multiprocessing as mp\n",
    "import time\n",
    "def job(v,num,l):#在赋值时加入锁变量\n",
    "    l.acquire()#要求占用\n",
    "    for i in range(10):\n",
    "        time.sleep(0.1)#暂停0.1在试验时使争夺的现象更明显\n",
    "        v.value+=num\n",
    "        print(v.value,end=' ')#end=改变输出结尾的符号，默认为\\n,这里改为‘ ’ 空格\n",
    "    l.release()#占用释放\n",
    "def multicore():\n",
    "    l=mp.Lock()\n",
    "    v=mp.Value('i',0)\n",
    "    p1=mp.Process(target=job,args=(v,1,l))\n",
    "    p2 = mp.Process(target=job, args=(v, 3,l))\n",
    "    p1.start()\n",
    "    p2.start()\n",
    "    p1.join()\n",
    "    p2.join()\n",
    "if __name__=='__main__':\n",
    "    multicore()"
   ]
  },
  {
   "cell_type": "code",
   "execution_count": 6,
   "metadata": {},
   "outputs": [
    {
     "name": "stdout",
     "output_type": "stream",
     "text": [
      "this is a thread of <Thread(Thread-6, started 8728)>\n"
     ]
    }
   ],
   "source": [
    "import threading as td\n",
    "td.active_count()#获取已激活线程数\n",
    "td.enumerate()#查看所有线程信息\n",
    "td.current_thread()#查看正在运行的线程\n",
    "def job():\n",
    "    print('this is a thread of %s'%td.current_thread())\n",
    "#定义一个多线程任务\n",
    "def main():\n",
    "    t=td.Thread(target=job)\n",
    "    t.start()\n",
    "if __name__=='__main__':\n",
    "    main()"
   ]
  },
  {
   "cell_type": "code",
   "execution_count": 72,
   "metadata": {},
   "outputs": [
    {
     "name": "stdout",
     "output_type": "stream",
     "text": [
      "T1 start\n",
      "\n",
      "T1 finish\n",
      "\n",
      "T2 start\n",
      "all done\n",
      "\n",
      "\n",
      "T2 finish\n",
      "\n"
     ]
    }
   ],
   "source": [
    "#join()的作用是确定主线程与某一线程的关系，jion()使该线程与jion（）后的主线程相连接\n",
    "import threading as td\n",
    "import time\n",
    "def job1():\n",
    "    print('T1 start\\n')\n",
    "    time.sleep(1)\n",
    "    print('T1 finish\\n')\n",
    "    \n",
    "def job2():\n",
    "    print('T2 start\\n')\n",
    "    print('T2 finish\\n')\n",
    "t1=td.Thread(target=job1,name='T1')\n",
    "t2=td.Thread(target=job2,name='T2')\n",
    "t1.start()\n",
    "t1.join()#jion（）与之后的线程连接，所以后边的执行要在t1完成后\n",
    "t2.start()#t2未与后边连接，所以t2与后边的并行\n",
    "print('all done\\n')"
   ]
  },
  {
   "cell_type": "code",
   "execution_count": 3,
   "metadata": {},
   "outputs": [
    {
     "name": "stdout",
     "output_type": "stream",
     "text": [
      "[[1, 9, 25], [4, 16, 25], [49, 49, 49], [1, 1, 1]]\n"
     ]
    }
   ],
   "source": [
    "#多线程没有返回值，用Queue来保存\n",
    "#这里的Queue直接引用queue类中的函数\n",
    "import threading as td\n",
    "from queue import Queue\n",
    "def job(l,q):\n",
    "    for i in range(len(l)):\n",
    "        l[i]=l[i]**2\n",
    "    q.put(l)\n",
    "def multithread():\n",
    "    q=Queue()\n",
    "    threads=[]\n",
    "    data=[[1,3,5],[2,4,5],[7,7,7],[1,1,1]]\n",
    "    for i in range(4):\n",
    "        t=td.Thread(target=job,args=(data[i],q))\n",
    "        t.start()\n",
    "        threads.append(t)\n",
    "    for t in threads:\n",
    "        t.join()\n",
    "    results=[]\n",
    "    for r in range(4):\n",
    "        results.append(q.get())\n",
    "    print(results)\n",
    "if __name__=='__main__':\n",
    "    multithread()\n",
    "        "
   ]
  },
  {
   "cell_type": "code",
   "execution_count": null,
   "metadata": {
    "collapsed": true
   },
   "outputs": [],
   "source": [
    "#Global Interpreter Lock简称GIL，指python的解释器c语言部分只能保证python的单个线程运行\n",
    "#所以多线程程序只能在一个cpu中运行，无法利用多核\n",
    "#多线程与普通函数对比\n",
    "import threading as td\n",
    "from queue import Queue\n",
    "import time\n",
    "import copy\n",
    "def job(l,q):\n",
    "    res=sum(l)\n",
    "    q.put(res)\n",
    "def multithread(l):\n",
    "    q=Queue()\n",
    "    threads=[]\n",
    "    for i in range(4):\n",
    "        t=td.Thread(target=job,args=(l,q))\n",
    "        t.start()\n",
    "        threads.append(t)\n",
    "    [t.join() for t in threads]\n",
    "    res=0\n",
    "    for i in range(4):\n",
    "        res+=q.get()\n",
    "    print(res)\n",
    "def normal(l):\n",
    "    print(sum(l))\n",
    "if __name__=='__main__':\n",
    "    l=list(range(100000000))\n",
    "    st=time.time()\n",
    "    normal(l*4)\n",
    "    print(time.time()-st)\n",
    "    st=time.time()\n",
    "    multithread(l)\n",
    "    print(time.time()-st)"
   ]
  },
  {
   "cell_type": "code",
   "execution_count": 1,
   "metadata": {},
   "outputs": [
    {
     "name": "stdout",
     "output_type": "stream",
     "text": [
      "\tjob1 1\n",
      "\tjob1 2\n",
      "\tjob1 3\n",
      "\tjob2 200.021074533462524414\tjob1 4\n",
      "\n",
      "\n",
      "\tjob2 30\tjob1 5\n",
      "\n",
      "\tjob2 40\tjob1 6\n",
      "\n",
      "\tjob2 50\tjob1 7\n",
      "\n",
      "\tjob2 60\tjob1 8\n",
      "\n",
      "\tjob2 70\tjob1 9\n",
      "\n",
      "\tjob2 80\tjob1 10\n",
      "\n",
      "\tjob2 90\n",
      "\tjob2 100\n",
      "\tjob2 110\n"
     ]
    }
   ],
   "source": [
    "#threading 也有自己的线程锁Lock()\n",
    "import time\n",
    "import threading as td\n",
    "def job1():\n",
    "    global A,L\n",
    "    L.acquire()\n",
    "    for i in range(10):\n",
    "        A+=1\n",
    "        print('\\tjob1 %s'%A)\n",
    "    L.release()\n",
    "def job2():\n",
    "    global A,L\n",
    "    L.acquire()\n",
    "    for i in range(10):\n",
    "        A+=10\n",
    "        print('\\tjob2 %s'%A)\n",
    "    L.release()\n",
    "\n",
    "if __name__=='__main__':\n",
    "    L=td.Lock()\n",
    "    A=0\n",
    "    t1=td.Thread(target=job1)\n",
    "    t2=td.Thread(target=job2)\n",
    "    t1.start()\n",
    "    t1.join()\n",
    "    t2.start()\n",
    "    t2.join()\n",
    "  "
   ]
  },
  {
   "cell_type": "code",
   "execution_count": null,
   "metadata": {
    "collapsed": true
   },
   "outputs": [],
   "source": [
    "#利用 tkinter 包创建窗口\n",
    "import tkinter as tk\n",
    "w=tk.Tk()#创建窗口w\n",
    "w.title('my window')\n",
    "w.geometry('300x300')#设计窗口大小\n",
    "var=tk.StringVar()#用于储存窗口的文本文档\n",
    "#为w设置标签窗口\n",
    "i=tk.Label(w,textvariable=var,bg='green',width=20,height=2,font='SimHei,12')#textvariable也可以直接自定义text=‘’的常量\n",
    "i.pack()#label位置\n",
    "on_hit=False\n",
    "#定义hit后的函数\n",
    "#这里每点击一次，on_hit 改变执行不同的变量，var就会改变\n",
    "def hit():\n",
    "    global on_hit\n",
    "    if on_hit==False:\n",
    "        on_hit=True\n",
    "        var.set('please hit')\n",
    "    else:\n",
    "        on_hit=False\n",
    "        var.set('IG NB')\n",
    "#为w,定义按钮窗口\n",
    "b=tk.Button(w,text='you hit me',width=10,height=1,font='Arial,10',command=hit)#操作函数为之前定义的hit（）\n",
    "b.pack()#固定button窗口\n",
    "w.mainloop()"
   ]
  },
  {
   "cell_type": "code",
   "execution_count": 2,
   "metadata": {
    "collapsed": true
   },
   "outputs": [],
   "source": [
    "#在tkinter中创建输入，输出按钮  \n",
    "import tkinter as tk\n",
    "w=tk.Tk()\n",
    "w.title('my window')\n",
    "w.geometry('300x300')\n",
    "#创建输入框Entry用户输入任何内容显示为*\n",
    "e=tk.Entry(w,show='*')\n",
    "e.pack()\n",
    "#创建文本框用于显示\n",
    "t=tk.Text(w,height=2)\n",
    "t.pack()\n",
    "#两个函数实际上实现的是近乎同样的功能\n",
    "def insert_point():\n",
    "    var=e.get()#var为entry中的内容\n",
    "    t.insert('insert',var)#输入为‘insert’，表示在光标处插入\n",
    "def insert_end():\n",
    "    var=e.get()\n",
    "    t.insert('end',var)#表示在最后插入\n",
    "b1=tk.Button(w,text='insert point',width=15,height=2,command=insert_point)\n",
    "b1.pack()\n",
    "b2=tk.Button(w,text='insert end',width=15,height=2,command=insert_end)\n",
    "b2.pack()\n",
    "w.mainloop()\n"
   ]
  },
  {
   "cell_type": "code",
   "execution_count": 2,
   "metadata": {
    "collapsed": true
   },
   "outputs": [],
   "source": [
    "#在tkinter中应用listbox（列表部件）\n",
    "import tkinter as tk\n",
    "w=tk.Tk()\n",
    "w.title('my window')\n",
    "w.geometry('300x300')\n",
    "#创建文本存储变量\n",
    "var1=tk.StringVar()\n",
    "var2=tk.StringVar()\n",
    "var2.set((1,2,3,4))#对var2赋值\n",
    "#创建listbox，变量选择var2\n",
    "lb=tk.Listbox(w,listvariable=var2)\n",
    "#定义按钮的command函数，选取listbox中的变量作为对var1赋值\n",
    "def print_selection():\n",
    "    value=lb.get(lb.curselection())#curselection（）当下选择的值\n",
    "    var1.set(value)\n",
    "#对listbox做的值添加或修改\n",
    "items=[11,22,33,44] \n",
    "for item in items:\n",
    "    lb.insert('end',item)#listbox insert若干值\n",
    "lb.insert('1','first')#listbox中position 1 插入值‘first’\n",
    "lb.insert('2','second')\n",
    "lb.delete('2')#删除listbox中位置2的值\n",
    "\n",
    "#创建窗口的标签页\n",
    "label_one=tk.Label(w,textvariable=var1,width=5,bg='yellow')#文本变量为var1\n",
    "label_one.pack()\n",
    "#创建按钮执行print_selection函数\n",
    "button_one=tk.Button(w,text='print selection',width=10,height=2,command=print_selection)\n",
    "button_one.pack()\n",
    "lb.pack()\n",
    "\n",
    "w.mainloop()"
   ]
  },
  {
   "cell_type": "code",
   "execution_count": 7,
   "metadata": {
    "collapsed": true
   },
   "outputs": [],
   "source": [
    "#tkinter 中的radiobutton （译为单项选择组件）组件\n",
    "import tkinter as tk\n",
    "w=tk.Tk()\n",
    "w.title('my window')\n",
    "w.geometry('300x300')\n",
    "l=tk.Label(w,text='entry',width=20,height=1,bg='yellow')\n",
    "l.pack()\n",
    "var=tk.StringVar()\n",
    "#创建指令函数，对label ‘l’中的text进行修改\n",
    "def print_selection():\n",
    "    l.config(text='your option is '+ var.get())#config函数可以修改label中的参数\n",
    "#创建三个radiobutton组件，每个都执行print_selection指令\n",
    "#函数中的variable 与 value组合起来可看作对变量var赋value的值的操作\n",
    "r1=tk.Radiobutton(w,text='option A',variable=var,value='A',command=print_selection)\n",
    "r2=tk.Radiobutton(w,text='option B',variable=var,value='B',command=print_selection)\n",
    "r3=tk.Radiobutton(w,text='option C',variable=var,value='C',command=print_selection)\n",
    "r1.pack()\n",
    "r2.pack()\n",
    "r3.pack()\n",
    "\n",
    "w.mainloop()"
   ]
  },
  {
   "cell_type": "code",
   "execution_count": 14,
   "metadata": {
    "collapsed": true
   },
   "outputs": [],
   "source": [
    "#tkinter中的scale(尺度)组件\n",
    "import tkinter as tk\n",
    "w=tk.Tk()\n",
    "w.title('my window')\n",
    "w.geometry('300x300')\n",
    "#创建label用于显示\n",
    "l=tk.Label(w,text='empty',width=20,height=2,bg='yellow')\n",
    "l.pack()\n",
    "def print_selection(v):\n",
    "    l.config(text='you have selected '+v)\n",
    "s=tk.Scale(w,orient=tk.HORIZONTAL,label='try me',from_=5,to=11,resolution=0.01,length=200,showvalue=1,tickinterval=2,command=print_selection)\n",
    "s.pack()\n",
    "#from_与python中的from区分\n",
    "#HORIZONTAL是在直接存在于tk中的变量，所以引用应该前缀tk.\n",
    "#resolution保留几位小数\n",
    "#length以像素尺度为标准\n",
    "#showvalue是否显示值1为是\n",
    "#tickinterval标记之间的距离为2\n",
    "#orient尺度的方向\n",
    "#label为尺度的label\n",
    "#scale的command会自动给函数赋游标所处的值value\n",
    "w.mainloop()"
   ]
  },
  {
   "cell_type": "code",
   "execution_count": 5,
   "metadata": {
    "collapsed": true
   },
   "outputs": [],
   "source": [
    "#应用tkinter中的Checkbutton\n",
    "import tkinter as tk\n",
    "w=tk.Tk()\n",
    "w.title('my window')\n",
    "w.geometry('300x300')\n",
    "#创建标签\n",
    "l=tk.Label(w,bg='yellow',width=30,height=2,text='empty')\n",
    "l.pack()\n",
    "#IntVar用于存储int变量\n",
    "var1=tk.IntVar()\n",
    "var2=tk.IntVar()\n",
    "def print_selection():\n",
    "    v1=var1.get()\n",
    "    v2=var2.get()\n",
    "    if v1==1:\n",
    "        if v2==1:\n",
    "            l.config(text='I like both python and c++')\n",
    "        else:\n",
    "            l.config(text='I like python')\n",
    "    elif v1==0:\n",
    "        if v2==1:\n",
    "            l.config(text='I like c++')\n",
    "        else:\n",
    "            l.config(text='I do not like anything')\n",
    "#checkbutton与ratiobutton类似，不同之处在于onvalue与offvalue，即选与不选变量都会给变量赋值\n",
    "chb1=tk.Checkbutton(w,width=10,height=3,text='python',variable=var1,onvalue=1,offvalue=0,command=print_selection)#选赋值1，不选赋值0\n",
    "chb2=tk.Checkbutton(w,text='c++',variable=var2,onvalue=1,offvalue=0,command=print_selection)\n",
    "chb1.pack()\n",
    "chb2.pack()\n",
    "w.mainloop()"
   ]
  },
  {
   "cell_type": "code",
   "execution_count": 41,
   "metadata": {
    "collapsed": true
   },
   "outputs": [],
   "source": [
    "#tkinter中的canvas(画布)\n",
    "import tkinter as tk\n",
    "w=tk.Tk()\n",
    "w.title('my window')\n",
    "w.geometry('300x300')\n",
    "#创建画布\n",
    "canvas=tk.Canvas(bg='blue',width=260,height=160)\n",
    "canvas.pack()\n",
    "#向tkinter中导入图片\n",
    "image_file=tk.PhotoImage(file=r'D:\\下载\\ins.gif')\n",
    "#将图片导入到canvas中\n",
    "image=canvas.create_image(10,10,anchor='nw',image=image_file)#以nw边角未锚点\n",
    "#以下没有anchor，坐标以window为基点\n",
    "#在画布中创建line(线)，oval(椭圆)，arc（弧），rectangle（矩形）\n",
    "line=canvas.create_line(55,55,110,110)#四个点未x0,y0,x1,y1\n",
    "oval=canvas.create_oval(55,55,110,110,fill='red')#fill以红色填充\n",
    "arc=canvas.create_arc(110,110,180,180,start=0,extent=180)#起始为0度终止于180度\n",
    "rect=canvas.create_rectangle(170,100,240,50,fill='green')\n",
    "def moveit():\n",
    "    canvas.move(rect,-1,-3)#移动画布上的图形rect，x,y移动-1，-3\n",
    "b=tk.Button(width=15,height=1,text='move',command=moveit)\n",
    "b.pack()\n",
    "w.mainloop()"
   ]
  },
  {
   "cell_type": "code",
   "execution_count": 3,
   "metadata": {
    "collapsed": true
   },
   "outputs": [],
   "source": [
    "#tkinter的menu（菜单）\n",
    "import tkinter as tk\n",
    "w=tk.Tk()\n",
    "w.title('my window')\n",
    "w.geometry('300x300')\n",
    "l=tk.Label(width=10,height=1,bg='yellow',text='')\n",
    "l.pack()\n",
    "counter=0\n",
    "#do_job,在label中显示counter，counter+=1\n",
    "def do_job():\n",
    "    global counter\n",
    "    l.config(text='do '+str(counter))\n",
    "    counter+=1\n",
    "#定义quit函数，用于关闭窗口\n",
    "def quit():\n",
    "    w.quit()\n",
    "    w.destroy()\n",
    "#在w中创建初始菜单栏\n",
    "menubar=tk.Menu(w)\n",
    "w.config(menu=menubar)#置换w的菜单栏未menubar\n",
    "#在mebubar中再设置新的菜单\n",
    "filemenu=tk.Menu(menubar,tearoff=0)#tearoff表示是否可设置为悬浮菜单parameter未boolean\n",
    "menubar.add_cascade(label='file',menu=filemenu)#将filemenu以悬瀑菜单的方式嵌入到menubar上，名为file\n",
    "filemenu.add_command(label='New',command=do_job)#在filemenu上添加功能按键New\n",
    "filemenu.add_command(label='Open',command=do_job)\n",
    "filemenu.add_command(label='Save',command=do_job)\n",
    "submenu=tk.Menu(filemenu,tearoff=0)#在filemenu中设置新的menu\n",
    "filemenu.add_separator()#在filemenu下拉菜单栏加一条分割线\n",
    "filemenu.add_cascade(label='Import',menu=submenu)#将submenu悬瀑式的嵌入filemenu\n",
    "submenu.add_command(label='Quit',command=quit,underline=0)#在submenu上添加功能quit用于关闭窗口\n",
    "#在menubar上添加新的菜单editmenu\n",
    "editmenu=tk.Menu(menubar,tearoff=0)\n",
    "menubar.add_cascade(label='Edit',menu=editmenu)\n",
    "editmenu.add_command(label='Copy',command=do_job)\n",
    "w.mainloop()"
   ]
  },
  {
   "cell_type": "code",
   "execution_count": 8,
   "metadata": {
    "collapsed": true
   },
   "outputs": [],
   "source": [
    "#利用Frame（框架）可以将tkinter分为不同的区域，便于管理\n",
    "import tkinter as tk\n",
    "w=tk.Tk()\n",
    "w.title('my window')\n",
    "w.geometry('300x300')\n",
    "\n",
    "tk.Label(w,bg='red',width=15,height=1,text='on the window').pack()\n",
    "\n",
    "frm=tk.Frame(w)\n",
    "frm.pack(side='bottom')#窗口中frame  pack的参数side的位置是绝对的\n",
    "\n",
    "frm_l=tk.Frame(frm)\n",
    "frm_r=tk.Frame(frm)\n",
    "frm_l.pack(side='left')#frame内部pack()side的设定是相对的，如果只有一个pack，label居中\n",
    "frm_r.pack(side='right')\n",
    "\n",
    "tk.Label(frm_l,bg='yellow',width=10,height=1,text='on the left').pack()\n",
    "tk.Label(frm_r,bg='green',width=10,height=1,text='on the right').pack()\n",
    "tk.Label(frm,bg='blue',width=15,height=1,text='on the frame').pack()\n",
    "\n",
    "w.mainloop()"
   ]
  },
  {
   "cell_type": "code",
   "execution_count": 1,
   "metadata": {
    "collapsed": true
   },
   "outputs": [],
   "source": [
    "#tkinter的messagebox(弹出对话框)\n",
    "import tkinter as tk\n",
    "from tkinter import messagebox#messagebox需要特殊的重新引入\n",
    "w=tk.Tk()\n",
    "w.title('my window')\n",
    "w.geometry('300x300')\n",
    "\n",
    "def hit_me():\n",
    "    #tk.messagebox.showinfo(title='Hi',message='hahah') 提示信息对话框\n",
    "    #tk.messagebox.showwarning(title='Hi',message='No!!') 提出警告对话框\n",
    "    #tk.messagebox.showerror(title='Hi', message='Never!') 提示错误对话框\n",
    "    tk.messagebox.askquestion(title='Hi',message='yes or no')#return True | Flase\n",
    "tk.Button(w,text='hit me',command=hit_me).pack()\n",
    "w.mainloop()"
   ]
  },
  {
   "cell_type": "code",
   "execution_count": 13,
   "metadata": {
    "collapsed": true
   },
   "outputs": [],
   "source": [
    "#tkinter中放置部件的三种方法pack\\grid\\place， 前两者无法共存，place可以与前两者分别共存\n",
    "import tkinter as tk\n",
    "w=tk.Tk()\n",
    "w.title('my window')\n",
    "w.geometry('300x300')\n",
    "\n",
    "#函数pack()将部件放到上下左右\n",
    "#tk.Label(w,text='top').pack(side='top')\n",
    "#tk.Label(w,text='bottom').pack(side='bottom')\n",
    "tk.Label(w,text='left').pack(side='left')\n",
    "#tk.Label(w,text='right').pack(side='right')\n",
    "\n",
    "#grid（）将部件以网格的形式放置\n",
    "#for i in range(3):\n",
    "    #for j in range(4):\n",
    "       # tk.Label(w,text='%s'%i).grid(row=i,column=j,padx=10,pady=10)\n",
    "#place以精确坐标来放置\n",
    "tk.Label(w,text='place').place(x=10,y=20,anchor='nw')\n",
    "\n",
    "w.mainloop()"
   ]
  },
  {
   "cell_type": "code",
   "execution_count": 3,
   "metadata": {
    "collapsed": true
   },
   "outputs": [],
   "source": [
    "#用tkinter搭建登陆窗口\n",
    "import tkinter as tk\n",
    "import pickle\n",
    "from tkinter import messagebox\n",
    "w=tk.Tk()\n",
    "w.title('my window')\n",
    "w.geometry('500x500')\n",
    "#定义登陆函数\n",
    "def login():\n",
    "    user_name=var1.get()\n",
    "    user_password=var2.get()\n",
    "    #向打开用于存储用户信息的pickle文件，没有则创建一个\n",
    "    try:\n",
    "        with open('user_accounts.pickle','rb') as user_file:\n",
    "            user_info=pickle.load(user_file)#读取pickle文档中的文件\n",
    "    except FileNotFoundError:#如果发生没有发现文档的错误\n",
    "        with open('user_accounts.pickle','wb') as user_file:\n",
    "            user_info={'admin':'admin'}\n",
    "            pickle.dump(user_info,user_file)#将user_info压缩进pickle.dump\n",
    "    #比对输入的账号和密码是否正确\n",
    "    if user_name in user_info:\n",
    "        if user_password==user_info[user_name]:\n",
    "            tk.messagebox.showinfo(title='welcome',message='How are you '+user_name)#信息栏窗口\n",
    "        else:\n",
    "            tk.messagebox.showerror(message='Error, your password is wrong. Try agin!')#错误栏窗口\n",
    "    else:\n",
    "        choice=tk.messagebox.askyesno(message='You have not sigh up yet. Sign up today?')#对choice赋值Ture | Flase\n",
    "        if choice:\n",
    "            sign_up()#选择注册账号则启动sign_up函数\n",
    "def sign_up():\n",
    "    #定义sign up window窗口中定义if_sign_up函数，用于比对账号是否可以注册\n",
    "    def if_sign_up():\n",
    "        #打开用户信息文档\n",
    "        with open('user_accounts.pickle','rb') as user_file:\n",
    "            user_info=pickle.load(user_file)\n",
    "        u_n=s_var1.get()\n",
    "        psw=s_var2.get()\n",
    "        psw_cf=s_var3.get()\n",
    "        #比对账号是否已存在，密码是否一致\n",
    "        if u_n in user_info:\n",
    "            tk.messagebox.showerror(title='Error',message='The user has already signed up!')\n",
    "        elif psw!=psw_cf:\n",
    "            tk.messagebox.showerror(title='Error',message='Password and confirm password must be the same!')\n",
    "        else:\n",
    "            user_info[u_n]=psw\n",
    "            with open('user_accounts.pickle','wb') as user_file:\n",
    "                pickle.dump(user_info,user_file)\n",
    "            tk.messagebox.showinfo('Welcome','You have already successfully signed up. ')\n",
    "            w_sign_up.destroy()#完成注册后摧毁窗口\n",
    "        \n",
    "    w_sign_up=tk.Toplevel(w)#新建用于注册的窗口\n",
    "    w_sign_up.title('sign up window')\n",
    "    w_sign_up.geometry('350x300')\n",
    "    \n",
    "    #创建可输入用户名和密码的Label和Entry\n",
    "    s_var1=tk.StringVar()\n",
    "    s_var1.set('Example@python.com')\n",
    "    tk.Label(w_sign_up,text='User_name').place(x=30,y=50)\n",
    "    tk.Entry(w_sign_up,textvariable=s_var1).place(x=150,y=50)\n",
    "    \n",
    "    s_var2=tk.StringVar()\n",
    "    tk.Label(w_sign_up,text='Password').place(x=30,y=80)\n",
    "    tk.Entry(w_sign_up,textvariable=s_var2,show='*').place(x=150,y=80)\n",
    "    \n",
    "    s_var3=tk.StringVar()\n",
    "    tk.Label(w_sign_up,text='Confirm password').place(x=30,y=110)\n",
    "    tk.Entry(w_sign_up,textvariable=s_var3,show='*').place(x=150,y=110)\n",
    "    #创建注册按钮用于检验账号是否可以注册\n",
    "    tk.Button(w_sign_up,text='Sign Up',command=if_sign_up).place(x=100,y=200)\n",
    "#插入画布，画布中插入welcome图片\n",
    "image_file=tk.PhotoImage(file='welcome.gif')\n",
    "canvas=tk.Canvas(w,width=500,height=400)\n",
    "canvas.create_image(35,35,anchor='nw',image=image_file)\n",
    "canvas.pack(side='top')\n",
    "#创建用于输入用户名和密码的窗口\n",
    "tk.Label(w,text='User name').place(x=50,y=250)\n",
    "tk.Label(w,text='Password').place(x=57,y=280)\n",
    "var1=tk.StringVar()\n",
    "var1.set('Example@python.com')\n",
    "tk.Entry(w,textvariable=var1).place(x=150,y=250)\n",
    "var2=tk.StringVar()\n",
    "tk.Entry(w,textvariable=var2,show='*').place(x=150,y=280)\n",
    "#创建登陆和注册按钮\n",
    "tk.Button(w,text='Login',command=login).place(x=100,y=350)\n",
    "tk.Button(w,text='Sign up',command=sign_up).place(x=200,y=350)\n",
    "w.mainloop()"
   ]
  },
  {
   "cell_type": "code",
   "execution_count": 4,
   "metadata": {},
   "outputs": [
    {
     "name": "stdout",
     "output_type": "stream",
     "text": [
      "numpy.ndim 2\n",
      "numpy.size 6\n",
      "numpy.shape (2, 3)\n"
     ]
    }
   ],
   "source": [
    "#Numpy基础\n",
    "import numpy as np\n",
    "a=np.array([[1,2,3],[2,3,4]])#将列表转化为矩阵\n",
    "\n",
    "print('numpy.ndim',a.ndim)#查看矩阵的维度\n",
    "print('numpy.size',a.size)#查看矩阵的元素个数\n",
    "print('numpy.shape',a.shape)#查看矩阵的行列数"
   ]
  },
  {
   "cell_type": "code",
   "execution_count": 9,
   "metadata": {},
   "outputs": [
    {
     "name": "stdout",
     "output_type": "stream",
     "text": [
      "array,int型(为int32) int32\n",
      "array,int64型 int64\n",
      "array,float型(为float64) float64\n",
      "array,float32型 float32\n",
      "[[0 0 0 0]\n",
      " [0 0 0 0]\n",
      " [0 0 0 0]]\n",
      "[[1 1 1]\n",
      " [1 1 1]\n",
      " [1 1 1]\n",
      " [1 1 1]]\n",
      "[[ 0.  0.  0.  0.]\n",
      " [ 0.  0.  0.  0.]\n",
      " [ 0.  0.  0.  0.]]\n",
      "空矩阵第一行 [  9.15916561e-312   9.15916561e-312   9.15916561e-312]\n",
      "[[1]\n",
      " [4]\n",
      " [7]]\n",
      "[  1.           1.47368421   1.94736842   2.42105263   2.89473684\n",
      "   3.36842105   3.84210526   4.31578947   4.78947368   5.26315789\n",
      "   5.73684211   6.21052632   6.68421053   7.15789474   7.63157895\n",
      "   8.10526316   8.57894737   9.05263158   9.52631579  10.        ]\n"
     ]
    }
   ],
   "source": []
  },
  {
   "cell_type": "code",
   "execution_count": null,
   "metadata": {
    "collapsed": true
   },
   "outputs": [],
   "source": [
    "\n"
   ]
  }
 ],
 "metadata": {
  "kernelspec": {
   "display_name": "Python [default]",
   "language": "python",
   "name": "python3"
  },
  "language_info": {
   "codemirror_mode": {
    "name": "ipython",
    "version": 3
   },
   "file_extension": ".py",
   "mimetype": "text/x-python",
   "name": "python",
   "nbconvert_exporter": "python",
   "pygments_lexer": "ipython3",
   "version": "3.5.6"
  }
 },
 "nbformat": 4,
 "nbformat_minor": 2
}
