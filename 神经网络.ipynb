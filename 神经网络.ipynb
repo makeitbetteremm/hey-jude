{
 "cells": [
  {
   "cell_type": "code",
   "execution_count": 5,
   "metadata": {},
   "outputs": [
    {
     "name": "stdout",
     "output_type": "stream",
     "text": [
      "0 [-0.36994751] [0.30249012]\n",
      "20 [0.13896331] [0.18705533]\n",
      "40 [0.25700422] [0.12324323]\n",
      "60 [0.2885204] [0.1062058]\n",
      "80 [0.29693502] [0.10165691]\n",
      "100 [0.29918168] [0.10044239]\n",
      "120 [0.29978152] [0.10011812]\n",
      "140 [0.29994167] [0.10003154]\n",
      "160 [0.29998443] [0.10000842]\n",
      "180 [0.29999585] [0.10000225]\n"
     ]
    }
   ],
   "source": [
    "#搭建简单的神经网络架构并运行\n",
    "import tensorflow as tf\n",
    "import numpy as np\n",
    "#创建用于训练的数据\n",
    "x_data = np.random.rand(100).astype('float32')\n",
    "y_data = x_data*0.3 + 0.1\n",
    "\n",
    "#创建训练的初始权重和偏差\n",
    "weights = tf.Variable(np.random.uniform([1],-1,1))#tensorflow的变量需要用tf.Variable声明\n",
    "biases = tf.Variable(np.zeros([1])+0.9)\n",
    "y = weights*x_data + biases\n",
    "\n",
    "#创建激励函数\n",
    "loss = tf.reduce_mean(tf.square(y-y_data))#误差值用平均方差衡量\n",
    "optimizer = tf.train.GradientDescentOptimizer(0.5)#用梯度下降法寻找最优解\n",
    "train = optimizer.minimize(loss)#求loss的最小值\n",
    "#首先要将所有变量初始化\n",
    "init = tf.global_variables_initializer()\n",
    "#创建用于训练的会话\n",
    "#运行init和train，以便先对变量初始化再进行训练\n",
    "sess = tf.Session()\n",
    "sess.run(init)\n",
    "for i in range(200):\n",
    "    sess.run(train)\n",
    "    if i%20==0:\n",
    "        print(i, sess.run(weights), sess.run(biases))#sess.run(weights)和sess.run(biases)分别输出权重和偏差值"
   ]
  },
  {
   "cell_type": "code",
   "execution_count": 1,
   "metadata": {},
   "outputs": [
    {
     "name": "stdout",
     "output_type": "stream",
     "text": [
      "[name: \"/device:CPU:0\"\n",
      "device_type: \"CPU\"\n",
      "memory_limit: 268435456\n",
      "locality {\n",
      "}\n",
      "incarnation: 12892910911747479951\n",
      ", name: \"/device:GPU:0\"\n",
      "device_type: \"GPU\"\n",
      "memory_limit: 1422143897\n",
      "locality {\n",
      "  bus_id: 1\n",
      "  links {\n",
      "  }\n",
      "}\n",
      "incarnation: 6422427159420946981\n",
      "physical_device_desc: \"device: 0, name: GeForce GTX 1050, pci bus id: 0000:01:00.0, compute capability: 6.1\"\n",
      "]\n"
     ]
    }
   ],
   "source": [
    "\n",
    "import os\n",
    "from tensorflow.python.client import device_lib\n",
    "os.environ[\"TF_CPP_MIN_LOG_LEVEL\"] = \"99\"\n",
    " \n",
    "if __name__ == \"__main__\":\n",
    "    print(device_lib.list_local_devices())\n"
   ]
  },
  {
   "cell_type": "code",
   "execution_count": 10,
   "metadata": {},
   "outputs": [
    {
     "name": "stdout",
     "output_type": "stream",
     "text": [
      "[3 3]\n",
      "[3 3]\n"
     ]
    }
   ],
   "source": [
    "#tensorflow都需要Session来控制输入和输出\n",
    "import tensorflow as tf\n",
    "matrix = tf.constant([3, 3])#tf.constant（）传入一个常数张量\n",
    "\n",
    "sess = tf.Session()\n",
    "print(sess.run(matrix))\n",
    "sess.close()\n",
    "with tf.Session() as sess:\n",
    "    print(sess.run(matrix))"
   ]
  },
  {
   "cell_type": "code",
   "execution_count": 15,
   "metadata": {},
   "outputs": [
    {
     "name": "stdout",
     "output_type": "stream",
     "text": [
      "1\n",
      "1\n",
      "2\n",
      "2\n",
      "3\n",
      "3\n"
     ]
    }
   ],
   "source": [
    "#tensorflow的变量需要通过Variable定义，否则无法成为变量\n",
    "import tensorflow as tf\n",
    "\n",
    "state = tf.Variable(0, name = 'counter') # name 对变量命名\n",
    "c = tf.constant(1)\n",
    "\n",
    "new_value = tf.add(state, c)\n",
    "f = tf.assign(state, new_value)#将new_value加载到state上\n",
    "\n",
    "init = tf.global_variables_initializer()#定义了新的变量后一定要对所有变量初始化\n",
    "with tf.Session() as sess:\n",
    "    sess.run(init)\n",
    "    for i in range(3):\n",
    "        print(sess.run(f))\n",
    "        #也可以run（f）后直接输出state如下\n",
    "        print(sess.run(state))"
   ]
  },
  {
   "cell_type": "code",
   "execution_count": 5,
   "metadata": {},
   "outputs": [
    {
     "name": "stdout",
     "output_type": "stream",
     "text": [
      "[6.2]\n"
     ]
    }
   ],
   "source": [
    "#tensorflow可以用placeholder进行占位，这样在还为获得数据时先将模型流程写完，等运行时用feed_dict获取\n",
    "import tensorflow as tf\n",
    "\n",
    "input1 = tf.placeholder('float32')\n",
    "input2 = tf.placeholder('float32')\n",
    "output = tf.multiply(input1,input2)\n",
    "\n",
    "with tf.Session() as sess:\n",
    "    print(sess.run(output, feed_dict={input1: [2.], input2: [3.1]}))"
   ]
  },
  {
   "cell_type": "code",
   "execution_count": 1,
   "metadata": {},
   "outputs": [
    {
     "name": "stdout",
     "output_type": "stream",
     "text": [
      "0.10630923\n",
      "0.0066780774\n",
      "0.0058624176\n",
      "0.00529246\n",
      "0.0049147657\n",
      "0.004660778\n",
      "0.0044555725\n",
      "0.004284662\n",
      "0.004154458\n",
      "0.0040611783\n",
      "0.003964941\n",
      "0.003866363\n",
      "0.003787119\n",
      "0.0036857815\n",
      "0.0035713252\n",
      "0.0034538202\n",
      "0.0033511266\n",
      "0.003251774\n",
      "0.003146184\n",
      "0.0030461226\n"
     ]
    }
   ],
   "source": [
    "#tensorflow搭建神经网络\n",
    "import tensorflow as tf\n",
    "import numpy as np\n",
    "\n",
    "#定义添加神经层的函数\n",
    "#添加层时要注意输入矩阵与变量的匹配\n",
    "def add_layer(data, in_size, out_size, activate_function = None):#outsize实际上就是神经元的个数\n",
    "    weights = tf.Variable(tf.random.normal([in_size, out_size], dtype = 'float32'))\n",
    "    biases =tf.Variable(tf.zeros([1, out_size]) + 0.1)\n",
    "    matrix = tf.matmul(data, weights) + biases#data左乘weights\n",
    "    if activate_function == None:\n",
    "        outputs = matrix\n",
    "    else:\n",
    "        outputs = activate_function(matrix)\n",
    "    return outputs\n",
    "\n",
    "#创建用于训练的数据\n",
    "xs = np.linspace(-1, 1, 300, dtype = 'float32')[:, np.newaxis]\n",
    "noise = np.random.normal(0, 0.05, xs.shape).astype('float32')\n",
    "ys = np.square(xs) - 0.5 + noise\n",
    "\n",
    "#创建占位变量\n",
    "x_data = tf.placeholder(dtype = 'float32', shape = [None, 1])#placeholder的shape为变量的形状，None表示任意多个\n",
    "y_data = tf.placeholder(dtype = 'float32', shape = [None, 1])\n",
    "\n",
    "l1 = add_layer(x_data, 1, 10, activate_function = tf.nn.relu)#此处为输入层\n",
    "prediction = add_layer(l1, 10, 1, activate_function = None)#此处为输出层\n",
    "\n",
    "loss = tf.reduce_mean(tf.square(y_data - prediction))#\n",
    "train = tf.train.GradientDescentOptimizer(0.1).minimize(loss)\n",
    "init = tf.global_variables_initializer()\n",
    "\n",
    "with tf.Session() as sess:\n",
    "    sess.run(init)\n",
    "    for i in range(1000):\n",
    "        sess.run(train, feed_dict = {x_data: xs, y_data: ys})#占位变量要使用feed_dict喂实际变量\n",
    "        if i % 50 == 0:\n",
    "            print(sess.run(loss, feed_dict = {x_data: xs, y_data: ys}))"
   ]
  },
  {
   "cell_type": "code",
   "execution_count": 25,
   "metadata": {},
   "outputs": [
    {
     "data": {
      "image/png": "[encoded data removed]",
      "text/plain": [
       "<Figure size 432x288 with 1 Axes>"
      ]
     },
     "metadata": {
      "needs_background": "light"
     },
     "output_type": "display_data"
    }
   ],
   "source": [
    "#利用matplotlib库使神经网络训练过程可视化\n",
    "import tensorflow as tf\n",
    "import numpy as np\n",
    "import matplotlib.pyplot as plt\n",
    "\n",
    "\n",
    "def add_layer(data, in_size, out_size, activation_function=None):\n",
    "    weights = tf.Variable(tf.random_normal([in_size, out_size], dtype='float32'))\n",
    "    biases = tf.Variable(tf.zeros([1, out_size], dtype='float32') + 1.)\n",
    "    matrix = tf.matmul(data, weights) + biases\n",
    "    if activation_function is None:\n",
    "        outputs = matrix\n",
    "    else:\n",
    "        outputs = activation_function(matrix)\n",
    "    return outputs\n",
    "\n",
    "\n",
    "xs = np.linspace(-1, 1, 300, dtype='float32')[:, np.newaxis]\n",
    "noise = np.random.normal(0, 0.05, xs.shape).astype('float32')\n",
    "ys = np.square(xs) - 0.5 + noise\n",
    "\n",
    "x_data = tf.placeholder(dtype='float32', shape=[None, 1])\n",
    "y_data = tf.placeholder(dtype='float32', shape=[None, 1])\n",
    "\n",
    "l1 = add_layer(x_data, 1, 10, activation_function=tf.nn.relu)\n",
    "prediction = add_layer(l1, 10, 1, activation_function=None)\n",
    "\n",
    "loss = tf.reduce_mean(tf.square(y_data - prediction), 0)\n",
    "train = tf.train.GradientDescentOptimizer(0.09).minimize(loss)\n",
    "init = tf.global_variables_initializer()\n",
    "data_dict = {x_data: xs, y_data: ys}\n",
    "fig = plt.figure()\n",
    "ax = fig.add_subplot(1, 1, 1)\n",
    "ax.scatter(xs, ys)\n",
    "plt.ylim(-0.6, 0.6)\n",
    "plt.ion()#plt.ion()使图像显示后就自动关闭\n",
    "plt.show()\n",
    "\n",
    "with tf.Session() as sess:\n",
    "    sess.run(init)\n",
    "    for i in range(2000):\n",
    "        sess.run(train, feed_dict=data_dict)\n",
    "        #每20次迭代，显示一次图像，由于lines未设置ion所以显示后还会存在\n",
    "        if i % 20 == 0:\n",
    "            try:\n",
    "                ax.lines.remove(lines[0])#移除前一个曲线图像\n",
    "            except Exception:#Exception为众多错误的总类\n",
    "                pass\n",
    "            prediction_value = sess.run(prediction, feed_dict= {x_data: xs})\n",
    "            lines = ax.plot(xs, prediction_value, 'r-', lw=5 )\n",
    "            plt.pause(0.2)#暂停0.2s\n",
    "            print(sess.run(loss, feed_dict=data_dict))"
   ]
  },
  {
   "cell_type": "code",
   "execution_count": 3,
   "metadata": {
    "collapsed": true
   },
   "outputs": [],
   "source": [
    "#利用tensorboard可是化神经网络结构\n",
    "import tensorflow as tf\n",
    "\n",
    "with tf.name_scope('inputs'):#name='inputs'\n",
    "    xs = tf.placeholder('float32', [None, 1], 'x_in')#dtype,shape,name\n",
    "    ys = tf.placeholder('float32', [None, 1], 'y_in')\n",
    "\n",
    "\n",
    "def add_layer(data, in_size, out_size, activation_function=None):\n",
    "    with tf.name_scope('layer'):#name='layer’，首先命名层，然后再命名神经层下的各个变量\n",
    "        with tf.name_scope('weights'):\n",
    "            weights = tf.Variable(tf.random_normal([in_size, out_size], dtype='float32'), name='W')#size='[, ]'\n",
    "        with tf.name_scope('biases'):\n",
    "            biases = tf.Variable(tf.zeros([1, out_size]) + 1, name='B')\n",
    "        with tf.name_scope('Wx_plus_B'):\n",
    "            matrix = tf.add(tf.matmul(data, weights), biases)\n",
    "        if activation_function == None:\n",
    "            outputs = matrix\n",
    "        else:\n",
    "            outputs = activation_function(matrix)\n",
    "        return outputs\n",
    "l1 = add_layer(xs, 1, 10, activation_function=tf.nn.relu)\n",
    "prediction = add_layer(l1, 10, 1)\n",
    "\n",
    "with tf.name_scope('loss'):\n",
    "    loss = tf.reduce_mean(tf.square(ys - prediction))#input_tensor=tf....,axis=0\n",
    "with tf.name_scope('train'):\n",
    "    train = tf.train.GradientDescentOptimizer(0.1).minimize(loss)#learning_rate=0.1，loss=loss\n",
    "\n",
    "with tf.Session() as sess:\n",
    "    tf.summary.FileWriter('logs/', sess.graph)#将sess中的表写入同文件夹下的logs文档中"
   ]
  },
  {
   "cell_type": "code",
   "execution_count": 1,
   "metadata": {
    "collapsed": true
   },
   "outputs": [],
   "source": [
    "#利用tensorborad可视化神经网络的训练过程\n",
    "import tensorflow as tf\n",
    "import numpy as np\n",
    "\n",
    "\n",
    "def add_layer(data, in_size, out_size, layer_n=None, activation_function=None):\n",
    "    layer_name = 'layer%s'%layer_n\n",
    "    with tf.name_scope('layer'):\n",
    "        with tf.name_scope('weights'):\n",
    "            weights = tf.Variable(tf.random.normal([in_size, out_size], dtype='float32'), name='w')\n",
    "        tf.summary.histogram(layer_name + '/W', weights)\n",
    "        with tf.name_scope('biases'):\n",
    "            biases = tf.Variable(tf.zeros([1, out_size]) + 0.5, name='b')\n",
    "        tf.summary.histogram(layer_name + 'b', biases)\n",
    "        with tf.name_scope('wx_plus_b'):\n",
    "            matrix = tf.add(tf.matmul(data, weights), biases)\n",
    "        if activation_function == None:\n",
    "            outputs = matrix\n",
    "        else:\n",
    "            outputs = activation_function(matrix)\n",
    "        tf.summary.histogram(layer_name + '/outputs', outputs)\n",
    "        return outputs\n",
    "    \n",
    "x_data = np.linspace(-1, 1, 300, dtype='float32')[:, np.newaxis]\n",
    "noise = np.random.normal(1, 0.05, x_data.shape).astype('float32')\n",
    "y_data = np.square(x_data) - 0.3 + noise\n",
    "\n",
    "xs = tf.placeholder('float32', [None, 1])\n",
    "ys = tf.placeholder('float32', [None, 1])\n",
    "\n",
    "l1 = add_layer(xs, 1, 10, layer_n=1, activation_function=tf.nn.relu)\n",
    "prediction = add_layer(l1, 10, 1, layer_n=2, activation_function=None)\n",
    "\n",
    "loss = tf.reduce_mean(tf.square(ys-prediction))\n",
    "tf.summary.scalar('loss', loss)\n",
    "train = tf.train.GradientDescentOptimizer(learning_rate=0.1).minimize(loss)\n",
    "merged = tf.summary.merge_all()\n",
    "\n",
    "with tf.Session() as sess:\n",
    "    sess.run(tf.global_variables_initializer())\n",
    "    writer = tf.summary.FileWriter('logs/', sess.graph)\n",
    "    for i in range(1000):\n",
    "        sess.run(train, feed_dict={xs:x_data, ys:y_data})\n",
    "        if i % 50 == 0:\n",
    "            rs = sess.run(merged, feed_dict={xs:x_data, ys:y_data})\n",
    "            writer.add_summary(rs, i)"
   ]
  },
  {
   "cell_type": "code",
   "execution_count": 61,
   "metadata": {
    "collapsed": true
   },
   "outputs": [],
   "source": []
  },
  {
   "cell_type": "code",
   "execution_count": null,
   "metadata": {
    "collapsed": true
   },
   "outputs": [],
   "source": []
  }
 ],
 "metadata": {
  "kernelspec": {
   "display_name": "Python [conda env:tensorflow]",
   "language": "python",
   "name": "conda-env-tensorflow-py"
  },
  "language_info": {
   "codemirror_mode": {
    "name": "ipython",
    "version": 3
   },
   "file_extension": ".py",
   "mimetype": "text/x-python",
   "name": "python",
   "nbconvert_exporter": "python",
   "pygments_lexer": "ipython3",
   "version": "3.6.8"
  }
 },
 "nbformat": 4,
 "nbformat_minor": 2
}
